{
 "cells": [
  {
   "cell_type": "code",
   "execution_count": 1,
   "id": "7df0c1fe",
   "metadata": {},
   "outputs": [],
   "source": [
    "import pandas as pd\n",
    "from kafka import KafkaProducer\n",
    "from time import sleep\n",
    "from json import dumps\n",
    "import json"
   ]
  },
  {
   "cell_type": "code",
   "execution_count": 3,
   "id": "edd5c6d5",
   "metadata": {},
   "outputs": [
    {
     "ename": "KeyboardInterrupt",
     "evalue": "",
     "output_type": "error",
     "traceback": [
      "\u001b[1;31m---------------------------------------------------------------------------\u001b[0m",
      "\u001b[1;31mKeyboardInterrupt\u001b[0m                         Traceback (most recent call last)",
      "Cell \u001b[1;32mIn[3], line 19\u001b[0m\n\u001b[0;32m     16\u001b[0m json_record \u001b[38;5;241m=\u001b[39m pd\u001b[38;5;241m.\u001b[39mSeries(record)\u001b[38;5;241m.\u001b[39mto_json()\n\u001b[0;32m     18\u001b[0m \u001b[38;5;66;03m# Send the JSON record to Kafka topic\u001b[39;00m\n\u001b[1;32m---> 19\u001b[0m producer\u001b[38;5;241m.\u001b[39msend(\u001b[38;5;124m\"\u001b[39m\u001b[38;5;124msupply_chain\u001b[39m\u001b[38;5;124m\"\u001b[39m, json_record\u001b[38;5;241m.\u001b[39mencode(\u001b[38;5;124m'\u001b[39m\u001b[38;5;124mutf-8\u001b[39m\u001b[38;5;124m'\u001b[39m))\n",
      "File \u001b[1;32m~\\anaconda3\\Lib\\site-packages\\kafka\\producer\\kafka.py:608\u001b[0m, in \u001b[0;36mKafkaProducer.send\u001b[1;34m(self, topic, value, key, headers, partition, timestamp_ms)\u001b[0m\n\u001b[0;32m    605\u001b[0m \u001b[38;5;28;01mif\u001b[39;00m batch_is_full \u001b[38;5;129;01mor\u001b[39;00m new_batch_created:\n\u001b[0;32m    606\u001b[0m     log\u001b[38;5;241m.\u001b[39mdebug(\u001b[38;5;124m\"\u001b[39m\u001b[38;5;124mWaking up the sender since \u001b[39m\u001b[38;5;132;01m%s\u001b[39;00m\u001b[38;5;124m is either full or\u001b[39m\u001b[38;5;124m\"\u001b[39m\n\u001b[0;32m    607\u001b[0m               \u001b[38;5;124m\"\u001b[39m\u001b[38;5;124m getting a new batch\u001b[39m\u001b[38;5;124m\"\u001b[39m, tp)\n\u001b[1;32m--> 608\u001b[0m     \u001b[38;5;28mself\u001b[39m\u001b[38;5;241m.\u001b[39m_sender\u001b[38;5;241m.\u001b[39mwakeup()\n\u001b[0;32m    610\u001b[0m \u001b[38;5;28;01mreturn\u001b[39;00m future\n\u001b[0;32m    611\u001b[0m \u001b[38;5;66;03m# handling exceptions and record the errors;\u001b[39;00m\n\u001b[0;32m    612\u001b[0m \u001b[38;5;66;03m# for API exceptions return them in the future,\u001b[39;00m\n\u001b[0;32m    613\u001b[0m \u001b[38;5;66;03m# for other exceptions raise directly\u001b[39;00m\n",
      "File \u001b[1;32m~\\anaconda3\\Lib\\site-packages\\kafka\\producer\\sender.py:333\u001b[0m, in \u001b[0;36mSender.wakeup\u001b[1;34m(self)\u001b[0m\n\u001b[0;32m    331\u001b[0m \u001b[38;5;28;01mdef\u001b[39;00m \u001b[38;5;21mwakeup\u001b[39m(\u001b[38;5;28mself\u001b[39m):\n\u001b[0;32m    332\u001b[0m \u001b[38;5;250m    \u001b[39m\u001b[38;5;124;03m\"\"\"Wake up the selector associated with this send thread.\"\"\"\u001b[39;00m\n\u001b[1;32m--> 333\u001b[0m     \u001b[38;5;28mself\u001b[39m\u001b[38;5;241m.\u001b[39m_client\u001b[38;5;241m.\u001b[39mwakeup()\n",
      "File \u001b[1;32m~\\anaconda3\\Lib\\site-packages\\kafka\\client_async.py:932\u001b[0m, in \u001b[0;36mKafkaClient.wakeup\u001b[1;34m(self)\u001b[0m\n\u001b[0;32m    930\u001b[0m \u001b[38;5;28;01mwith\u001b[39;00m \u001b[38;5;28mself\u001b[39m\u001b[38;5;241m.\u001b[39m_wake_lock:\n\u001b[0;32m    931\u001b[0m     \u001b[38;5;28;01mtry\u001b[39;00m:\n\u001b[1;32m--> 932\u001b[0m         \u001b[38;5;28mself\u001b[39m\u001b[38;5;241m.\u001b[39m_wake_w\u001b[38;5;241m.\u001b[39msendall(\u001b[38;5;124mb\u001b[39m\u001b[38;5;124m'\u001b[39m\u001b[38;5;124mx\u001b[39m\u001b[38;5;124m'\u001b[39m)\n\u001b[0;32m    933\u001b[0m     \u001b[38;5;28;01mexcept\u001b[39;00m socket\u001b[38;5;241m.\u001b[39mtimeout:\n\u001b[0;32m    934\u001b[0m         log\u001b[38;5;241m.\u001b[39mwarning(\u001b[38;5;124m'\u001b[39m\u001b[38;5;124mTimeout to send to wakeup socket!\u001b[39m\u001b[38;5;124m'\u001b[39m)\n",
      "\u001b[1;31mKeyboardInterrupt\u001b[0m: "
     ]
    }
   ],
   "source": [
    "# Configure Kafka producer\n",
    "bootstrap_servers = \"52.66.235.7:9092\"\n",
    "topic_name = \"supply_chain\"\n",
    "producer = KafkaProducer(bootstrap_servers=bootstrap_servers)\n",
    "\n",
    "# Read data from Excel sheet\n",
    "supply_data=pd.read_csv(\"C:\\\\Users\\\\balaj\\\\Downloads\\\\DataCoSupplyChainDataset1.csv\",encoding='latin1')\n",
    "\n",
    "\n",
    "# Convert DataFrame to a list of dictionaries\n",
    "records = supply_data.to_dict(orient='records')\n",
    "\n",
    "# Send each record to Kafka topic\n",
    "for record in records:\n",
    "    # Convert the record to a JSON string\n",
    "    json_record = pd.Series(record).to_json()\n",
    "\n",
    "    # Send the JSON record to Kafka topic\n",
    "    producer.send(\"supply_chain\", json_record.encode('utf-8'))\n",
    "\n"
   ]
  },
  {
   "cell_type": "code",
   "execution_count": null,
   "id": "39be6aa0",
   "metadata": {},
   "outputs": [],
   "source": []
  },
  {
   "cell_type": "code",
   "execution_count": null,
   "id": "8a0293c3",
   "metadata": {},
   "outputs": [],
   "source": []
  }
 ],
 "metadata": {
  "kernelspec": {
   "display_name": "Python 3 (ipykernel)",
   "language": "python",
   "name": "python3"
  },
  "language_info": {
   "codemirror_mode": {
    "name": "ipython",
    "version": 3
   },
   "file_extension": ".py",
   "mimetype": "text/x-python",
   "name": "python",
   "nbconvert_exporter": "python",
   "pygments_lexer": "ipython3",
   "version": "3.11.5"
  }
 },
 "nbformat": 4,
 "nbformat_minor": 5
}
